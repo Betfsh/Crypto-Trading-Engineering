{
 "cells": [
  {
   "cell_type": "code",
   "execution_count": 1,
   "metadata": {},
   "outputs": [],
   "source": [
    "import requests\n",
    "import pandas as pd\n",
    "from datetime import datetime, timedelta\n",
    "import sys\n",
    "import os\n",
    "\n",
    "sys.path.append(os.path.join(os.getcwd(), '/home/jabez_kassa/week_9/Crypto-Trading-Engineering/scripts'))\n",
    "import coins\n",
    "import portfolio"
   ]
  },
  {
   "cell_type": "code",
   "execution_count": 2,
   "metadata": {},
   "outputs": [
    {
     "data": {
      "text/html": [
       "<div>\n",
       "<style scoped>\n",
       "    .dataframe tbody tr th:only-of-type {\n",
       "        vertical-align: middle;\n",
       "    }\n",
       "\n",
       "    .dataframe tbody tr th {\n",
       "        vertical-align: top;\n",
       "    }\n",
       "\n",
       "    .dataframe thead th {\n",
       "        text-align: right;\n",
       "    }\n",
       "</style>\n",
       "<table border=\"1\" class=\"dataframe\">\n",
       "  <thead>\n",
       "    <tr style=\"text-align: right;\">\n",
       "      <th></th>\n",
       "      <th>btc_price</th>\n",
       "      <th>eth_price</th>\n",
       "      <th>bnb_price</th>\n",
       "      <th>sol_price</th>\n",
       "      <th>xrp_price</th>\n",
       "    </tr>\n",
       "    <tr>\n",
       "      <th>Date</th>\n",
       "      <th></th>\n",
       "      <th></th>\n",
       "      <th></th>\n",
       "      <th></th>\n",
       "      <th></th>\n",
       "    </tr>\n",
       "  </thead>\n",
       "  <tbody>\n",
       "    <tr>\n",
       "      <th>2023-06-20</th>\n",
       "      <td>28327.488281</td>\n",
       "      <td>1792.119995</td>\n",
       "      <td>247.674438</td>\n",
       "      <td>16.635231</td>\n",
       "      <td>0.492870</td>\n",
       "    </tr>\n",
       "    <tr>\n",
       "      <th>2023-06-21</th>\n",
       "      <td>30027.296875</td>\n",
       "      <td>1891.007202</td>\n",
       "      <td>249.286346</td>\n",
       "      <td>17.257046</td>\n",
       "      <td>0.500695</td>\n",
       "    </tr>\n",
       "    <tr>\n",
       "      <th>2023-06-22</th>\n",
       "      <td>29912.281250</td>\n",
       "      <td>1872.942993</td>\n",
       "      <td>240.792435</td>\n",
       "      <td>16.642620</td>\n",
       "      <td>0.494975</td>\n",
       "    </tr>\n",
       "    <tr>\n",
       "      <th>2023-06-23</th>\n",
       "      <td>30695.468750</td>\n",
       "      <td>1892.862061</td>\n",
       "      <td>244.564941</td>\n",
       "      <td>17.149534</td>\n",
       "      <td>0.496566</td>\n",
       "    </tr>\n",
       "    <tr>\n",
       "      <th>2023-06-24</th>\n",
       "      <td>30548.695313</td>\n",
       "      <td>1876.059692</td>\n",
       "      <td>236.659653</td>\n",
       "      <td>16.652863</td>\n",
       "      <td>0.487313</td>\n",
       "    </tr>\n",
       "    <tr>\n",
       "      <th>...</th>\n",
       "      <td>...</td>\n",
       "      <td>...</td>\n",
       "      <td>...</td>\n",
       "      <td>...</td>\n",
       "      <td>...</td>\n",
       "    </tr>\n",
       "    <tr>\n",
       "      <th>2024-06-16</th>\n",
       "      <td>66639.046875</td>\n",
       "      <td>3620.563477</td>\n",
       "      <td>610.054016</td>\n",
       "      <td>151.125504</td>\n",
       "      <td>0.488832</td>\n",
       "    </tr>\n",
       "    <tr>\n",
       "      <th>2024-06-17</th>\n",
       "      <td>66490.296875</td>\n",
       "      <td>3511.378906</td>\n",
       "      <td>604.467346</td>\n",
       "      <td>143.334274</td>\n",
       "      <td>0.505160</td>\n",
       "    </tr>\n",
       "    <tr>\n",
       "      <th>2024-06-18</th>\n",
       "      <td>65140.746094</td>\n",
       "      <td>3483.681396</td>\n",
       "      <td>588.702087</td>\n",
       "      <td>137.503998</td>\n",
       "      <td>0.490948</td>\n",
       "    </tr>\n",
       "    <tr>\n",
       "      <th>2024-06-19</th>\n",
       "      <td>64960.296875</td>\n",
       "      <td>3559.347412</td>\n",
       "      <td>598.771729</td>\n",
       "      <td>135.609604</td>\n",
       "      <td>0.493241</td>\n",
       "    </tr>\n",
       "    <tr>\n",
       "      <th>2024-06-20</th>\n",
       "      <td>64784.230469</td>\n",
       "      <td>3511.086914</td>\n",
       "      <td>587.107178</td>\n",
       "      <td>133.472961</td>\n",
       "      <td>0.488716</td>\n",
       "    </tr>\n",
       "  </tbody>\n",
       "</table>\n",
       "<p>367 rows × 5 columns</p>\n",
       "</div>"
      ],
      "text/plain": [
       "               btc_price    eth_price   bnb_price   sol_price  xrp_price\n",
       "Date                                                                    \n",
       "2023-06-20  28327.488281  1792.119995  247.674438   16.635231   0.492870\n",
       "2023-06-21  30027.296875  1891.007202  249.286346   17.257046   0.500695\n",
       "2023-06-22  29912.281250  1872.942993  240.792435   16.642620   0.494975\n",
       "2023-06-23  30695.468750  1892.862061  244.564941   17.149534   0.496566\n",
       "2023-06-24  30548.695313  1876.059692  236.659653   16.652863   0.487313\n",
       "...                  ...          ...         ...         ...        ...\n",
       "2024-06-16  66639.046875  3620.563477  610.054016  151.125504   0.488832\n",
       "2024-06-17  66490.296875  3511.378906  604.467346  143.334274   0.505160\n",
       "2024-06-18  65140.746094  3483.681396  588.702087  137.503998   0.490948\n",
       "2024-06-19  64960.296875  3559.347412  598.771729  135.609604   0.493241\n",
       "2024-06-20  64784.230469  3511.086914  587.107178  133.472961   0.488716\n",
       "\n",
       "[367 rows x 5 columns]"
      ]
     },
     "execution_count": 2,
     "metadata": {},
     "output_type": "execute_result"
    }
   ],
   "source": [
    "df = coins.coins_df()\n",
    "df"
   ]
  },
  {
   "cell_type": "code",
   "execution_count": 3,
   "metadata": {},
   "outputs": [
    {
     "data": {
      "text/plain": [
       "{'weights': OrderedDict([('btc_price', 0.0),\n",
       "              ('eth_price', 0.0),\n",
       "              ('bnb_price', 0.02788),\n",
       "              ('sol_price', 0.97212),\n",
       "              ('xrp_price', 0.0)]),\n",
       " 'expected_return': 312.8050244079461,\n",
       " 'annual_volatility': 74.37351390600017,\n",
       " 'sharpe_ratio': 4.178974584968097}"
      ]
     },
     "execution_count": 3,
     "metadata": {},
     "output_type": "execute_result"
    }
   ],
   "source": [
    "portfolio.ef_portfolio(df)"
   ]
  },
  {
   "cell_type": "code",
   "execution_count": 4,
   "metadata": {},
   "outputs": [
    {
     "name": "stdout",
     "output_type": "stream",
     "text": [
      "Weights for Lowest Risk Portfolio:\n",
      "OrderedDict([('btc_price', 0.55541), ('eth_price', 0.06774), ('bnb_price', 0.36069), ('sol_price', 0.0), ('xrp_price', 0.01616)])\n",
      "Expected annual return: 75.9%\n",
      "Annual volatility: 36.2%\n",
      "Sharpe Ratio: 2.04\n"
     ]
    },
    {
     "data": {
      "text/plain": [
       "(0.7588503572634224, 0.3619568061628247, 2.041266650283829)"
      ]
     },
     "execution_count": 4,
     "metadata": {},
     "output_type": "execute_result"
    }
   ],
   "source": [
    "portfolio.lowrisk_porfolio(df)"
   ]
  },
  {
   "cell_type": "markdown",
   "metadata": {},
   "source": [
    "#### Breakdown of Portfolio Weights\n",
    "BTC: 55.54%\n",
    "ETH: 6.77%\n",
    "BNB: 36.07%\n",
    "SOL: 0.00%\n",
    "XRP: 1.62%\n",
    "\n",
    "#### Interpretation of Results\n",
    "- Expected Annual Return: 75.9% – This is a high expected return, indicating that the portfolio has significant growth potential.\n",
    "- Annual Volatility: 36.2% – This represents the portfolio's risk, showing how much the returns can deviate from the expected return. A volatility of 36.2% is - - relatively high, reflecting the inherent risk of investing in volatile cryptocurrencies.\n",
    "- Sharpe Ratio: 2.04 – A Sharpe ratio of 2.04 is very good, indicating that the portfolio offers a high return for each unit of risk taken. Generally, a Sharpe - ratio above 1 is considered good, above 2 is very good, and above 3 is excellent."
   ]
  },
  {
   "cell_type": "markdown",
   "metadata": {},
   "source": [
    "#### Interpretation of Results\n",
    "- Expected Annual Return: 312.8% – This is an extremely high expected return, indicating significant growth potential for this portfolio.\n",
    "- Annual Volatility: 74.4% – This high volatility represents the significant risk associated with this portfolio. It means the portfolio's returns can deviate substantially from the expected return.\n",
    "- Sharpe Ratio: 4.18 – A Sharpe ratio of 4.18 is exceptionally high, suggesting that the portfolio provides a very high return per unit of risk taken.\n",
    "Practical Use of Results\n",
    "- Portfolio Allocation: The portfolio is almost entirely allocated to Solana (SOL), with a small fraction in Binance Coin (BNB). This suggests that, according to the optimization process, Solana provides the best risk-adjusted return within the context of the available data.\n",
    "- Investment Decision: While this portfolio offers high potential returns, it is also very risky due to its concentration in a single asset. Investors should carefully consider their risk tolerance and investment horizon before adopting such a strategy."
   ]
  },
  {
   "cell_type": "markdown",
   "metadata": {},
   "source": []
  }
 ],
 "metadata": {
  "kernelspec": {
   "display_name": "env",
   "language": "python",
   "name": "python3"
  },
  "language_info": {
   "codemirror_mode": {
    "name": "ipython",
    "version": 3
   },
   "file_extension": ".py",
   "mimetype": "text/x-python",
   "name": "python",
   "nbconvert_exporter": "python",
   "pygments_lexer": "ipython3",
   "version": "3.8.10"
  }
 },
 "nbformat": 4,
 "nbformat_minor": 2
}
