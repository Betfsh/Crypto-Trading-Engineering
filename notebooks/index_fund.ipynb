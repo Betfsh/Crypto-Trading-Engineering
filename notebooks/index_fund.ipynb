{
 "cells": [
  {
   "cell_type": "code",
   "execution_count": 12,
   "metadata": {},
   "outputs": [],
   "source": [
    "import requests\n",
    "import pandas as pd\n",
    "from datetime import datetime, timedelta\n",
    "import sys\n",
    "import os\n",
    "import index_fund\n",
    "\n",
    "sys.path.append(os.path.join(os.getcwd(), '/home/jabez/Documents/week_9/Crypto-Trading-Engineering/scripts'))"
   ]
  },
  {
   "cell_type": "code",
   "execution_count": 13,
   "metadata": {},
   "outputs": [],
   "source": [
    "API_URL = 'https://api.coingecko.com/api/v3/coins/markets'\n",
    "params = {\n",
    "    'vs_currency': 'usd',\n",
    "    'order': 'market_cap_desc',\n",
    "    'per_page': 100,\n",
    "    'page': 1,\n",
    "    'sparkline': 'false'\n",
    "}"
   ]
  },
  {
   "cell_type": "code",
   "execution_count": 14,
   "metadata": {},
   "outputs": [],
   "source": [
    "crypto_data = index_fund.fetch_crypto_data()\n",
    "filtered_data = index_fund.filter_stable_coins(crypto_data)\n",
    "top_10_coins = index_fund.get_top_10_coins(filtered_data)"
   ]
  },
  {
   "cell_type": "code",
   "execution_count": 15,
   "metadata": {},
   "outputs": [
    {
     "name": "stdout",
     "output_type": "stream",
     "text": [
      "Bitcoin - Market Cap: 1264437167212\n",
      "Ethereum - Market Cap: 430459669984\n",
      "BNB - Market Cap: 90182343844\n",
      "Solana - Market Cap: 61642775876\n",
      "Lido Staked Ether - Market Cap: 33695847115\n",
      "XRP - Market Cap: 27027852604\n",
      "Dogecoin - Market Cap: 17990656167\n",
      "Toncoin - Market Cap: 17527993798\n",
      "Cardano - Market Cap: 13385266286\n",
      "Avalanche - Market Cap: 10858861109\n"
     ]
    }
   ],
   "source": [
    "for coin in top_10_coins:\n",
    "    print(f\"{coin['name']} - Market Cap: {coin['market_cap']}\")"
   ]
  },
  {
   "cell_type": "code",
   "execution_count": 16,
   "metadata": {},
   "outputs": [
    {
     "name": "stdout",
     "output_type": "stream",
     "text": [
      "Initial Index Weights: {'bitcoin': 0.6427570893665728, 'ethereum': 0.21881751955984857, 'binancecoin': 0.04584280053174539, 'solana': 0.03133515229538543, 'staked-ether': 0.017128763039395166, 'ripple': 0.013739191097870565, 'dogecoin': 0.009145271978355969, 'the-open-network': 0.008910084714513048, 'cardano': 0.006804193218517902, 'avalanche-2': 0.005519934197795128}\n"
     ]
    }
   ],
   "source": [
    "index = index_fund.rebalance_index()\n",
    "print(\"Initial Index Weights:\", index)"
   ]
  },
  {
   "cell_type": "code",
   "execution_count": 17,
   "metadata": {},
   "outputs": [
    {
     "name": "stdout",
     "output_type": "stream",
     "text": [
      "                    Weight\n",
      "Cryptocurrency            \n",
      "bitcoin           0.642757\n",
      "ethereum          0.218818\n",
      "binancecoin       0.045843\n",
      "solana            0.031335\n",
      "staked-ether      0.017129\n",
      "ripple            0.013739\n",
      "dogecoin          0.009145\n",
      "the-open-network  0.008910\n",
      "cardano           0.006804\n",
      "avalanche-2       0.005520\n"
     ]
    }
   ],
   "source": [
    "df = pd.DataFrame(list(index.items()), columns=['Cryptocurrency', 'Weight'])\n",
    "df.set_index('Cryptocurrency', inplace=True)\n",
    "\n",
    "# Print DataFrame\n",
    "print(df)"
   ]
  }
 ],
 "metadata": {
  "kernelspec": {
   "display_name": "env",
   "language": "python",
   "name": "python3"
  },
  "language_info": {
   "codemirror_mode": {
    "name": "ipython",
    "version": 3
   },
   "file_extension": ".py",
   "mimetype": "text/x-python",
   "name": "python",
   "nbconvert_exporter": "python",
   "pygments_lexer": "ipython3",
   "version": "3.11.7"
  }
 },
 "nbformat": 4,
 "nbformat_minor": 2
}
